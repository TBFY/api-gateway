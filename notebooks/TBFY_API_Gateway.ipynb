{
  "nbformat": 4,
  "nbformat_minor": 0,
  "metadata": {
    "colab": {
      "name": "TBFY_API_Gateway.ipynb",
      "provenance": [],
      "collapsed_sections": [],
      "authorship_tag": "ABX9TyPdIdicqkAPEJCanCZ9worP",
      "include_colab_link": true
    },
    "kernelspec": {
      "name": "python3",
      "display_name": "Python 3"
    }
  },
  "cells": [
    {
      "cell_type": "markdown",
      "metadata": {
        "id": "view-in-github",
        "colab_type": "text"
      },
      "source": [
        "<a href=\"https://colab.research.google.com/github/TBFY/api-gateway/blob/master/notebooks/TBFY_API_Gateway.ipynb\" target=\"_parent\"><img src=\"https://colab.research.google.com/assets/colab-badge.svg\" alt=\"Open In Colab\"/></a>"
      ]
    },
    {
      "cell_type": "markdown",
      "metadata": {
        "id": "9LIEblxe17XC"
      },
      "source": [
        "![TBFY-Banner](https://raw.githubusercontent.com/TBFY/general/master/figures/tbfy-banner.png)"
      ]
    },
    {
      "cell_type": "markdown",
      "metadata": {
        "id": "nMTURskn2AAT"
      },
      "source": [
        "# **API Gateway**\n",
        "This notebook is an example of how to use the API Gateway. The API gateway provides a flexible abstraction layer and a single entry point that securely manages communication between TBFY clients and online tools via API.\n",
        "In this use case different online tools of the project will be used, via API Gateway, with the following steps:\n",
        "1. Obtain an organisation identifier using the SPARQL endpoint\n",
        "1. Obtain all the information of that organisation using the core API\n",
        "1. Obtain all the contracting processes which this organisation has been involved using the core API\n",
        "1. Obtain similar documents to the ones of the tenders which the organisation has ben involved using the search API\n",
        "1. Obtain other possible names by which the organisation can be known using the reconciliation API"
      ]
    },
    {
      "cell_type": "code",
      "metadata": {
        "id": "BW_Z-_w5JL7v"
      },
      "source": [
        "import requests\n",
        "import pandas as pd\n",
        "from IPython.display import display, HTML"
      ],
      "execution_count": 2,
      "outputs": []
    },
    {
      "cell_type": "markdown",
      "metadata": {
        "id": "ZvsF5P01O9Jl"
      },
      "source": [
        "# **Step 1**\n",
        "Using the resource **/triples**, the API Gateway will connect to the SPARQL endpoint to get an identifier according to the chosen name parameter"
      ]
    },
    {
      "cell_type": "code",
      "metadata": {
        "id": "hS9JGjYD3g-e"
      },
      "source": [
        ""
      ],
      "execution_count": null,
      "outputs": []
    },
    {
      "cell_type": "markdown",
      "metadata": {
        "id": "q-tG5GaBPMCN"
      },
      "source": [
        "# **Step 2**\n",
        "Using the resource **/organisation/{id}**, the API Gateway will connect to the core API to extract all the information about the identifier previously obtained"
      ]
    },
    {
      "cell_type": "code",
      "metadata": {
        "id": "MhIVOJnT-DGO",
        "cellView": "form"
      },
      "source": [
        "#@title Information of an Organisation\n",
        "\n",
        "id =  \"fr-130003981\"#@param {type:\"string\"}\n",
        "\n",
        "params = 'http://tbfy.librairy.linkeddata.es/api/organisation/' + id\n",
        "print ('Requesting : ' + params )\n",
        "print()\n",
        "resp = requests.get(params)\n",
        "if resp.status_code != 200:\n",
        "    # This means something went wrong.\n",
        "    raise ApiError('GET /tasks/ {}'.format(resp.status_code))\n",
        "\n",
        "lista=[]\n",
        "for items in resp.json():\n",
        "  lista.append(resp.json())\n",
        "i=0\n",
        "df = pd.DataFrame(columns=['legalName', 'organisation', 'employees', 'founding_date', 'activity', 'address', 'postal_code', 'locality'])\n",
        "for todo_item in lista:\n",
        "  df.loc[i] = [todo_item['legalName'],todo_item['id'],todo_item['numberOfEmployees'],todo_item['foundingDate'],todo_item['activity'],todo_item['fullAddress']['address'],todo_item['fullAddress']['postCode'],todo_item['fullAddress']['postName']]\n",
        "\n",
        "display(HTML(df.to_html(justify='left')))"
      ],
      "execution_count": null,
      "outputs": []
    },
    {
      "cell_type": "markdown",
      "metadata": {
        "id": "EcIUY26jWK9g"
      },
      "source": [
        "# **Step 3**\n",
        "Using the resource **/organisation/{id}/contractingProcess**, the API Gateway will connect to the core API to show all the contracting process which the organisation has been involved."
      ]
    },
    {
      "cell_type": "code",
      "metadata": {
        "cellView": "form",
        "id": "uVwfGhk7Wj2z"
      },
      "source": [
        "#@title Contacting processes of an organisation\n",
        "\n",
        "params = 'http://tbfy.librairy.linkeddata.es/api/organisation/' + id + '/contractingProcess'\n",
        "print ('Requesting : ' + params )\n",
        "print()\n",
        "resp = requests.get(params)\n",
        "\n",
        "if resp.status_code != 200:\n",
        "    # This means something went wrong.\n",
        "    raise ApiError('GET /tasks/ {}'.format(resp.status_code))\n",
        "\n",
        "i=0\n",
        "df = pd.DataFrame(columns=['contracting_process_id'])\n",
        "for todo_item in resp.json():\n",
        "  df.loc[i] = [todo_item['id']]\n",
        "  i+=1\n",
        "\n",
        "display(HTML(df.to_html(justify='left')))"
      ],
      "execution_count": null,
      "outputs": []
    },
    {
      "cell_type": "markdown",
      "metadata": {
        "id": "QHpvRWWMMa4X"
      },
      "source": [
        "# **Step 4**\n",
        "Using the resource **documents/{id}/items**, the API Gateway will connect to the search API to get similar documents to the ones of the tenders which the organisation has ben involved"
      ]
    },
    {
      "cell_type": "code",
      "metadata": {
        "cellView": "form",
        "id": "blIB7_mPM6gV"
      },
      "source": [
        "#@title List of tenders of an organisation and related documents\n",
        "\n",
        "cp_id =  \"ocds-0c46vo-0133-000002-2019\"#@param {type:\"string\"}\n",
        "\n",
        "params = 'http://tbfy.librairy.linkeddata.es/api/contractingProcess/' + cp_id + '/tender'\n",
        "print ('Requesting : ' + params )\n",
        "print()\n",
        "resp = requests.get(params)\n",
        "\n",
        "if resp.status_code != 200:\n",
        "    # This means something went wrong.\n",
        "    raise ApiError('GET /tasks/ {}'.format(resp.status_code))\n",
        "\n",
        "i=0\n",
        "df = pd.DataFrame(columns=['tender_id','title','description','status'])\n",
        "for todo_item in resp.json():\n",
        "  df.loc[i] = [todo_item['id'],todo_item['title'],todo_item['description'],todo_item['status']]\n",
        "  i+=1\n",
        "\n",
        "display(HTML(df.to_html(justify='left')))\n",
        "print()\n",
        "print()\n",
        "\n",
        "print(\"***** RELATED DOCUMENTS *****\")\n",
        "print()\n",
        "# Documents\n",
        "#doc_id = todo_item['id']\n",
        "doc_id = 'ocds-0c46vo-0096-JAN156235_JAN156235'\n",
        "\n",
        "params = 'http://tbfy.librairy.linkeddata.es/api/documents/' + doc_id + '/items'\n",
        "print ('Requesting : ' + params )\n",
        "print()\n",
        "resp = requests.get(params)\n",
        "\n",
        "if resp.status_code != 200:\n",
        "    # This means something went wrong.\n",
        "    raise ApiError('GET /tasks/ {}'.format(resp.status_code))\n",
        "\n",
        "i=0\n",
        "df = pd.DataFrame(columns=['document','name','score'])\n",
        "for todo_item in resp.json():\n",
        "  df.loc[i] = [todo_item['id'],todo_item['name'],todo_item['score']]\n",
        "  i+=1\n",
        "\n",
        "display(HTML(df.to_html(justify='left')))"
      ],
      "execution_count": null,
      "outputs": []
    },
    {
      "cell_type": "markdown",
      "metadata": {
        "id": "bknn4-sY8rDa"
      },
      "source": [
        "# **Step 5**\n",
        "Using the resource **/brands**, the API Gateway will connect to the reconciliation API to show other possible names by which the organisation can be known"
      ]
    },
    {
      "cell_type": "code",
      "metadata": {
        "id": "iSQouNZzrWk6",
        "cellView": "form"
      },
      "source": [
        "#@title Reconcile Organisations\n",
        "\n",
        "name_org =  \"\"#@param {type:\"string\"}\n",
        "newname= name_org.replace(\" \", \"+\")\n",
        "jurisdiction = \"gb\" #@param [\"gb\", \"es\", \"fr\", \"it\", \"pt\", \"no\"] {type:\"string\"}  \n",
        "\n",
        "params = 'https://opencorporates.com/reconcile/' + jurisdiction + '?query=' + newname\n",
        "resp = requests.get(params)\n",
        "\n",
        "print ('Requesting : ' + params )\n",
        "print ()\n",
        "json_val = resp.json()['result']\n",
        "\n",
        "if resp.status_code != 200:\n",
        "    # This means something went wrong.\n",
        "    raise ApiError('GET /tasks/ {}'.format(resp.status_code))\n",
        "\n",
        "df = pd.DataFrame(columns=['id', 'name', 'score', 'match', 'uri'])\n",
        "i=0\n",
        "for todo_item in json_val:\n",
        "  new_id = todo_item['id'].replace(\"/companies/\",\"\")\n",
        "  new_id = new_id.replace(\"/\",\"-\")\n",
        "  df.loc[i] = [new_id, todo_item['name'], todo_item['score'], todo_item['match'], todo_item['uri']]\n",
        "  i+=1\n",
        "\n",
        "display(HTML(df.to_html(justify='left')))\n"
      ],
      "execution_count": null,
      "outputs": []
    }
  ]
}