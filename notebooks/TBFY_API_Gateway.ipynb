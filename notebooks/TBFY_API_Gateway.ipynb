{
  "nbformat": 4,
  "nbformat_minor": 0,
  "metadata": {
    "colab": {
      "name": "TBFY_API_Gateway.ipynb",
      "provenance": [],
      "collapsed_sections": [],
      "authorship_tag": "ABX9TyOGLrD+kr60Lz3c3lERAzcT",
      "include_colab_link": true
    },
    "kernelspec": {
      "name": "python3",
      "display_name": "Python 3"
    }
  },
  "cells": [
    {
      "cell_type": "markdown",
      "metadata": {
        "id": "view-in-github",
        "colab_type": "text"
      },
      "source": [
        "<a href=\"https://colab.research.google.com/github/TBFY/api-gateway/blob/master/notebooks/TBFY_API_Gateway.ipynb\" target=\"_parent\"><img src=\"https://colab.research.google.com/assets/colab-badge.svg\" alt=\"Open In Colab\"/></a>"
      ]
    },
    {
      "cell_type": "markdown",
      "metadata": {
        "id": "9LIEblxe17XC"
      },
      "source": [
        "![TBFY-Banner](https://raw.githubusercontent.com/TBFY/general/master/figures/tbfy-banner.png)"
      ]
    },
    {
      "cell_type": "markdown",
      "metadata": {
        "id": "nMTURskn2AAT"
      },
      "source": [
        "# **List of awardees**\n",
        "This notebook is an example of how to use a new resource created that shows a list of all the organisations that have been awarded. This resource is called \"/supplier\" and has been created in response to the needs of some business cases.\n",
        "\n",
        "The resource has several fully customizable filters. Depending on the number of filters used, the response time may be affected."
      ]
    },
    {
      "cell_type": "code",
      "metadata": {
        "id": "BW_Z-_w5JL7v"
      },
      "source": [
        "import requests\n",
        "import pandas as pd\n",
        "from IPython.display import display, HTML"
      ],
      "execution_count": 23,
      "outputs": []
    },
    {
      "cell_type": "markdown",
      "metadata": {
        "id": "ZvsF5P01O9Jl"
      },
      "source": [
        "Buscamos en el endpoint las organizaciones que cumplan tal requisito, en este caso vamos a intentar poner las organizaciones que tengan peug en el nombre"
      ]
    },
    {
      "cell_type": "code",
      "metadata": {
        "id": "hS9JGjYD3g-e"
      },
      "source": [
        ""
      ],
      "execution_count": null,
      "outputs": []
    },
    {
      "cell_type": "markdown",
      "metadata": {
        "id": "q-tG5GaBPMCN"
      },
      "source": [
        "Extraemos la informacion de la organización elegida con la core"
      ]
    },
    {
      "cell_type": "code",
      "metadata": {
        "colab": {
          "base_uri": "https://localhost:8080/",
          "height": 113
        },
        "id": "MhIVOJnT-DGO",
        "outputId": "4e554eb2-7325-4861-f5d8-6d2fd5d05e19"
      },
      "source": [
        "#@title Information of an Organisation\n",
        "\n",
        "id = \"\"\n",
        "jur = \"\"\n",
        "\n",
        "id =  \"gb-00148545\"#@param {type:\"string\"}\n",
        "\n",
        "params = 'http://tbfy.librairy.linkeddata.es/api/organisation/' + id\n",
        "print ('Requesting : ' + params )\n",
        "print()\n",
        "resp = requests.get(params)\n",
        "if resp.status_code != 200:\n",
        "    # This means something went wrong.\n",
        "    raise ApiError('GET /tasks/ {}'.format(resp.status_code))\n",
        "\n",
        "lista=[]\n",
        "for items in resp.json():\n",
        "  lista.append(resp.json())\n",
        "i=0\n",
        "df = pd.DataFrame(columns=['legalName', 'organisation', 'employees', 'founding_date', 'activity', 'address', 'postal_code', 'locality'])\n",
        "for todo_item in lista:\n",
        "  df.loc[i] = [todo_item['legalName'],todo_item['id'],todo_item['numberOfEmployees'],todo_item['foundingDate'],todo_item['activity'],todo_item['fullAddress']['address'],todo_item['fullAddress']['postCode'],todo_item['fullAddress']['postName']]\n",
        "\n",
        "display(HTML(df.to_html(justify='left')))"
      ],
      "execution_count": 51,
      "outputs": [
        {
          "output_type": "stream",
          "text": [
            "Requesting : http://tbfy.librairy.linkeddata.es/api/organisation/gb-00148545\n",
            "\n"
          ],
          "name": "stdout"
        },
        {
          "output_type": "display_data",
          "data": {
            "text/html": [
              "<table border=\"1\" class=\"dataframe\">\n",
              "  <thead>\n",
              "    <tr style=\"text-align: left;\">\n",
              "      <th></th>\n",
              "      <th>legalName</th>\n",
              "      <th>organisation</th>\n",
              "      <th>employees</th>\n",
              "      <th>founding_date</th>\n",
              "      <th>activity</th>\n",
              "      <th>address</th>\n",
              "      <th>postal_code</th>\n",
              "      <th>locality</th>\n",
              "    </tr>\n",
              "  </thead>\n",
              "  <tbody>\n",
              "    <tr>\n",
              "      <th>0</th>\n",
              "      <td>PEUGEOT MOTOR COMPANY PLC</td>\n",
              "      <td>gb-00148545</td>\n",
              "      <td></td>\n",
              "      <td>1917-09-26</td>\n",
              "      <td>Sale of new cars and light motor vehicles</td>\n",
              "      <td>Pinley House2 Sunbeam Way, Coventry, West Midlands, CV3 1ND</td>\n",
              "      <td>CV3 1ND</td>\n",
              "      <td>Coventry</td>\n",
              "    </tr>\n",
              "  </tbody>\n",
              "</table>"
            ],
            "text/plain": [
              "<IPython.core.display.HTML object>"
            ]
          },
          "metadata": {
            "tags": []
          }
        }
      ]
    },
    {
      "cell_type": "markdown",
      "metadata": {
        "id": "EcIUY26jWK9g"
      },
      "source": [
        "Procesos de contratación en los que ha participado a través de core API"
      ]
    },
    {
      "cell_type": "code",
      "metadata": {
        "colab": {
          "base_uri": "https://localhost:8080/",
          "height": 383
        },
        "id": "uVwfGhk7Wj2z",
        "outputId": "70838ef1-571d-43b9-96dd-9d3e85824b72"
      },
      "source": [
        "params = 'http://tbfy.librairy.linkeddata.es/api/organisation/' + id + '/contractingProcess'\n",
        "print ('Requesting : ' + params )\n",
        "print()\n",
        "resp = requests.get(params)\n",
        "\n",
        "if resp.status_code != 200:\n",
        "    # This means something went wrong.\n",
        "    raise ApiError('GET /tasks/ {}'.format(resp.status_code))\n",
        "\n",
        "i=0\n",
        "df = pd.DataFrame(columns=['contracting_process_id'])\n",
        "for todo_item in resp.json():\n",
        "  df.loc[i] = [todo_item['id']]\n",
        "  i+=1\n",
        "\n",
        "display(HTML(df.to_html(justify='left')))"
      ],
      "execution_count": 53,
      "outputs": [
        {
          "output_type": "stream",
          "text": [
            "Requesting : http://tbfy.librairy.linkeddata.es/api/organisation/gb-00148545/contractingProcess\n",
            "\n"
          ],
          "name": "stdout"
        },
        {
          "output_type": "display_data",
          "data": {
            "text/html": [
              "<table border=\"1\" class=\"dataframe\">\n",
              "  <thead>\n",
              "    <tr style=\"text-align: left;\">\n",
              "      <th></th>\n",
              "      <th>contracting_process_id</th>\n",
              "    </tr>\n",
              "  </thead>\n",
              "  <tbody>\n",
              "    <tr>\n",
              "      <th>0</th>\n",
              "      <td>ocds-0c46vo-0001-509cac8d-c115-4587-af06-8e94214ba148</td>\n",
              "    </tr>\n",
              "    <tr>\n",
              "      <th>1</th>\n",
              "      <td>ocds-0c46vo-0001-4343e127-4aec-48bb-b09a-1ff282768d4d</td>\n",
              "    </tr>\n",
              "    <tr>\n",
              "      <th>2</th>\n",
              "      <td>ocds-0c46vo-0001-0a8e2d79-f987-4acf-a8d4-7e2f91f43c0c</td>\n",
              "    </tr>\n",
              "    <tr>\n",
              "      <th>3</th>\n",
              "      <td>ocds-0c46vo-0001-21c9cea3-36f2-439b-ad5b-9130edc36522</td>\n",
              "    </tr>\n",
              "    <tr>\n",
              "      <th>4</th>\n",
              "      <td>ocds-0c46vo-0001-25f9aef1-5870-47d9-a744-63f2887dc10d</td>\n",
              "    </tr>\n",
              "    <tr>\n",
              "      <th>5</th>\n",
              "      <td>ocds-0c46vo-0001-4771e73a-cb39-4cf0-a976-8c6b01639b23</td>\n",
              "    </tr>\n",
              "    <tr>\n",
              "      <th>6</th>\n",
              "      <td>ocds-0c46vo-0001-d94adca0-7f58-45c2-b5c0-50ae054a7df0</td>\n",
              "    </tr>\n",
              "    <tr>\n",
              "      <th>7</th>\n",
              "      <td>ocds-0c46vo-0001-f1f60ddc-d83d-48a0-b22a-02374c820aab</td>\n",
              "    </tr>\n",
              "    <tr>\n",
              "      <th>8</th>\n",
              "      <td>ocds-0c46vo-0001-51fa0c1b-7b90-4bb3-b613-a17239be5f3c</td>\n",
              "    </tr>\n",
              "    <tr>\n",
              "      <th>9</th>\n",
              "      <td>ocds-0c46vo-0001-5d0d092b-cbcb-4391-aae2-927bf13e37bb</td>\n",
              "    </tr>\n",
              "  </tbody>\n",
              "</table>"
            ],
            "text/plain": [
              "<IPython.core.display.HTML object>"
            ]
          },
          "metadata": {
            "tags": []
          }
        }
      ]
    },
    {
      "cell_type": "markdown",
      "metadata": {
        "id": "bknn4-sY8rDa"
      },
      "source": [
        "#Reconciliation\n",
        "\n",
        "Once we have a list of awardees we can also match organisation names to legal corporate entities using the OpenRefine Reconciliation API"
      ]
    },
    {
      "cell_type": "code",
      "metadata": {
        "id": "iSQouNZzrWk6",
        "cellView": "form"
      },
      "source": [
        "#@title Reconcile Suppliers\n",
        "\n",
        "name_org =  \"\"#@param {type:\"string\"}\n",
        "newname= name_org.replace(\" \", \"+\")\n",
        "jurisdiction = \"es\" #@param [\"gb\", \"es\", \"fr\", \"it\", \"pt\", \"no\"] {type:\"string\"}  \n",
        "\n",
        "params = 'https://opencorporates.com/reconcile/' + jurisdiction + '?query=' + newname\n",
        "resp = requests.get(params)\n",
        "\n",
        "print ('Requesting : ' + params )\n",
        "print ()\n",
        "json_val = resp.json()['result']\n",
        "\n",
        "if resp.status_code != 200:\n",
        "    # This means something went wrong.\n",
        "    raise ApiError('GET /tasks/ {}'.format(resp.status_code))\n",
        "\n",
        "df = pd.DataFrame(columns=['id', 'name', 'score', 'match', 'uri'])\n",
        "i=0\n",
        "for todo_item in json_val:\n",
        "  new_id = todo_item['id'].replace(\"/companies/\",\"\")\n",
        "  new_id = new_id.replace(\"/\",\"-\")\n",
        "  df.loc[i] = [new_id, todo_item['name'], todo_item['score'], todo_item['match'], todo_item['uri']]\n",
        "  i+=1\n",
        "\n",
        "display(HTML(df.to_html(justify='left')))\n"
      ],
      "execution_count": null,
      "outputs": []
    }
  ]
}