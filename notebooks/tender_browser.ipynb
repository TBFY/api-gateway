{
  "nbformat": 4,
  "nbformat_minor": 0,
  "metadata": {
    "colab": {
      "name": "Copy of tender_browser.ipynb",
      "provenance": [],
      "collapsed_sections": [],
      "include_colab_link": true
    },
    "kernelspec": {
      "name": "python3",
      "display_name": "Python 3"
    }
  },
  "cells": [
    {
      "cell_type": "markdown",
      "metadata": {
        "id": "view-in-github",
        "colab_type": "text"
      },
      "source": [
        "<a href=\"https://colab.research.google.com/github/TBFY/api-gateway/blob/master/notebooks/tender_browser.ipynb\" target=\"_parent\"><img src=\"https://colab.research.google.com/assets/colab-badge.svg\" alt=\"Open In Colab\"/></a>"
      ]
    },
    {
      "cell_type": "markdown",
      "metadata": {
        "id": "kDtY46wE_1D-",
        "colab_type": "text"
      },
      "source": [
        "![TBFY-Banner](https://raw.githubusercontent.com/TBFY/general/master/figures/tbfy-banner.png)"
      ]
    },
    {
      "cell_type": "markdown",
      "metadata": {
        "id": "IEk2U9ZB_5ym",
        "colab_type": "text"
      },
      "source": [
        "# **CERVED Use Case - Given a text in a language, a list of awarded organisations in similar procurement processes will be shown.**"
      ]
    },
    {
      "cell_type": "markdown",
      "metadata": {
        "id": "j1mgD4k1FCrF",
        "colab_type": "text"
      },
      "source": [
        "## Demo"
      ]
    },
    {
      "cell_type": "markdown",
      "metadata": {
        "id": "cY_QHGGTME7i",
        "colab_type": "text"
      },
      "source": [
        "[Search API](https://github.com/TBFY/search-API) can be used to search for tenders which are related to a procurement text. The language parameter `lang` follows the [ISO 639-1 Code](https://www.iso.org/iso-639-language-codes.html). The service currently supports the following languages: English (`en`), Spanish (`es`), French(`fr`), Italian(`it`) and Portuguese(`pt`).\n",
        "\n",
        "You can also choose the number of records you want to work with. By default, the notebook will work with 10 records."
      ]
    },
    {
      "cell_type": "code",
      "metadata": {
        "id": "p1JwiW6TAgve",
        "colab_type": "code",
        "cellView": "form",
        "colab": {
          "base_uri": "https://localhost:8080/",
          "height": 221
        },
        "outputId": "4a9f839a-6c5e-4b07-eb3f-ac6acc8d04d3"
      },
      "source": [
        "def retrieve_documents(request):\n",
        "  base_url = 'https://tbfy.librairy.linkeddata.es/search-api'\n",
        "  json_request = {\"source\": request['source'], \"size\": request['size'], \"text\" : request['text'], \"lang\": request['lang'] }\n",
        "  print(\"making the query to the SearchAPI ... \")\n",
        "  resp = requests.post(base_url+'/items', json=json_request)\n",
        "  if resp.status_code != 200:\n",
        "    print('POST /items/ {}'.format(resp.status_code))\n",
        "    pass\n",
        "  documents = []\n",
        "  for doc in resp.json():    \n",
        "    documents.append({\"id\":doc['id'], \"name_s\":doc['name']})    \n",
        "  return documents\n",
        "\n",
        "#@title Search Documents\n",
        "import requests\n",
        "import pandas as pd\n",
        "from IPython.display import display, HTML\n",
        "  \n",
        "text_input =  \"Lappalto ha per oggetto la fornitura di apparecchiature conformi alla normativa ECAC Standard 3 con velocita di movimento del nastro interno di almeno 05 msec.  per la rilevazione automatica di esplosivi EDS nei bagagli da stiva dei passeggeri in transito presso gli Aeroporti Milano Linate e Milano Malpensa.  Rientrano altresi nell'oggetto dell'appalto l'installazione e la manutenzione per un periodo di 10 dieci anni a decorrere dalla data di emissione del certificato di verifica di conformita delle apparecchiature fornite\"#@param {type:\"string\"}\n",
        "\n",
        "num_docs = 5 #@param {type:\"slider\", min:1, max:10, step:1}\n",
        "\n",
        "language = \"en\" #@param [\"en\", \"es\", \"fr\", \"it\", \"pt\"] {type:\"string\"}   \n",
        "\n",
        "doc_type = \"tender\" #@param [\"tender\", \"jrc\"] {type:\"string\"}\n",
        "\n",
        "request = {\"source\": doc_type, \"size\": str(num_docs), \"text\" : text_input, \"lang\": language }\n",
        "\n",
        "df = pd.DataFrame(columns=['id', 'title'])\n",
        "i=0\n",
        "for document in retrieve_documents(request):\n",
        "  df.loc[i] = [document['id'],document['name_s']]\n",
        "  i+=1\n",
        "\n",
        "display(HTML(df.to_html(justify='center')))\n",
        "\n"
      ],
      "execution_count": 3,
      "outputs": [
        {
          "output_type": "stream",
          "text": [
            "making the query to the SearchAPI ... \n"
          ],
          "name": "stdout"
        },
        {
          "output_type": "display_data",
          "data": {
            "text/html": [
              "<table border=\"1\" class=\"dataframe\">\n",
              "  <thead>\n",
              "    <tr style=\"text-align: center;\">\n",
              "      <th></th>\n",
              "      <th>id</th>\n",
              "      <th>title</th>\n",
              "    </tr>\n",
              "  </thead>\n",
              "  <tbody>\n",
              "    <tr>\n",
              "      <th>0</th>\n",
              "      <td>ocds-0c46vo-0133-079735-2019_079735-2019_td</td>\n",
              "      <td>Supply ECAC Std 3 Explosive Detection System to Inverness Airport</td>\n",
              "    </tr>\n",
              "    <tr>\n",
              "      <th>1</th>\n",
              "      <td>ocds-0c46vo-0022-FEB285089_FEB285089</td>\n",
              "      <td>Supply ECAC Std 3 Explosive Detection System to Inverness Airport</td>\n",
              "    </tr>\n",
              "    <tr>\n",
              "      <th>2</th>\n",
              "      <td>ocds-0c46vo-0022-FEB345537_FEB345537</td>\n",
              "      <td>Supply ECAC Std 3 Explosive Detection System to Inverness Airport</td>\n",
              "    </tr>\n",
              "    <tr>\n",
              "      <th>3</th>\n",
              "      <td>ocds-0c46vo-0133-043264-2019_043264-2019_td</td>\n",
              "      <td>Booking Management Solution</td>\n",
              "    </tr>\n",
              "    <tr>\n",
              "      <th>4</th>\n",
              "      <td>ocds-0c46vo-0133-091933-2019_091933-2019_td</td>\n",
              "      <td>Tender for the Transport of Elderly and Disabled Persons</td>\n",
              "    </tr>\n",
              "  </tbody>\n",
              "</table>"
            ],
            "text/plain": [
              "<IPython.core.display.HTML object>"
            ]
          },
          "metadata": {
            "tags": []
          }
        }
      ]
    },
    {
      "cell_type": "markdown",
      "metadata": {
        "id": "xpC9n0Rbecve",
        "colab_type": "text"
      },
      "source": [
        "Once we have the list of related documents, we can directly use their `id` to read the resource in the Knowledge-Graph.\n",
        "\n",
        "The document identifiers, filtered by source (=tender), in the Search-API are the same as the `id` in the KG-API.\n",
        "\n",
        "The following procedure extracts the tender list from the obtained list of documents filtering only the completed ones.\n"
      ]
    },
    {
      "cell_type": "code",
      "metadata": {
        "id": "Rm08Mw15ezV4",
        "colab_type": "code",
        "cellView": "form",
        "colab": {
          "base_uri": "https://localhost:8080/",
          "height": 666
        },
        "outputId": "52017a42-d890-419e-e889-71a1217b2ed4"
      },
      "source": [
        "#@title Search Tenders\n",
        "\n",
        "def retrieve_tenders(request):\n",
        "  documents = retrieve_documents(request)\n",
        "  print(\"found\",len(documents),\"related tenders ..\")\n",
        "  tenders = []\n",
        "  for document in documents:\n",
        "    id = document['id']\n",
        "    tender = requests.get('https://tbfy.librairy.linkeddata.es/kg-api/tender/'+id).json()    \n",
        "    if (request['complete'] and 'status' in tender):\n",
        "      if tender['status'] == \"complete\":\n",
        "        tenders.append(tender)\n",
        "    else:\n",
        "      tenders.append(tender)\n",
        "  return tenders\n",
        "\n",
        "text_input =  \"Lappalto ha per oggetto la fornitura di apparecchiature conformi alla normativa ECAC Standard 3 con velocita di movimento del nastro interno di almeno 05 msec.  per la rilevazione automatica di esplosivi EDS nei bagagli da stiva dei passeggeri in transito presso gli Aeroporti Milano Linate e Milano Malpensa.  Rientrano altresi nell'oggetto dell'appalto l'installazione e la manutenzione per un periodo di 10 dieci anni a decorrere dalla data di emissione del certificato di verifica di conformita delle apparecchiature fornite\"#@param {type:\"string\"}\n",
        "\n",
        "num_docs = 5 #@param {type:\"slider\", min:1, max:10, step:1}\n",
        "\n",
        "status_completed = True #@param {type:\"boolean\"}\n",
        "\n",
        "language = \"en\" #@param [\"en\", \"es\", \"fr\", \"it\", \"pt\"] {type:\"string\"}   \n",
        "\n",
        "request = {\"source\": \"tender\", \"complete\":status_completed, \"size\": str(num_docs), \"text\" : text_input, \"lang\": language }\n",
        "\n",
        "df = pd.DataFrame(columns=['id', 'status', 'name', 'description'])\n",
        "i=0\n",
        "for tender in retrieve_tenders(request):\n",
        "  df.loc[i] = [tender.get('id',\"\"),tender.get('status',\"\"),tender.get('title',\"\"),tender.get('description',\"\")]\n",
        "  i+=1\n",
        "\n",
        "display(HTML(df.to_html(justify='center')))"
      ],
      "execution_count": 6,
      "outputs": [
        {
          "output_type": "stream",
          "text": [
            "making the query to the SearchAPI ... \n",
            "found 5 related tenders ..\n"
          ],
          "name": "stdout"
        },
        {
          "output_type": "display_data",
          "data": {
            "text/html": [
              "<table border=\"1\" class=\"dataframe\">\n",
              "  <thead>\n",
              "    <tr style=\"text-align: center;\">\n",
              "      <th></th>\n",
              "      <th>id</th>\n",
              "      <th>status</th>\n",
              "      <th>name</th>\n",
              "      <th>description</th>\n",
              "    </tr>\n",
              "  </thead>\n",
              "  <tbody>\n",
              "    <tr>\n",
              "      <th>0</th>\n",
              "      <td>ocds-0c46vo-0133-079735-2019_079735-2019_td</td>\n",
              "      <td></td>\n",
              "      <td>Supply ECAC Std 3 Explosive Detection System to Inverness Airport</td>\n",
              "      <td>HIAL wish to appoint a single supplier to supply, deliver, install and commission an ECAC Standard 3 Explosive Detection System (EDS) at Inverness Airport, liaising closely with a baggage integrator contractor to be appointed in due course who will install an associated Hold Baggage System.In order for Inverness Airport to be compliant with Chapter 12 of the Annex to Regulation (EU) No. 185/2010, point 12.4.2, HIAL require the replacement of the existing hold baggage screening Standard 2 EDS with a Standard 3 EDS by 31.3.2020.The supplier is also required to provide a Support Service Package for the EDS for an initial period of 5 years, with potential to extend for a further 4 years at HIAL's discretion.</td>\n",
              "    </tr>\n",
              "    <tr>\n",
              "      <th>1</th>\n",
              "      <td>ocds-0c46vo-0022-FEB285089_FEB285089</td>\n",
              "      <td>complete</td>\n",
              "      <td>Supply ECAC Std 3 Explosive Detection System to Inverness Airport</td>\n",
              "      <td>HIAL wish to appoint a single supplier to supply, deliver, install and commission an ECAC Standard 3 Explosive Detection System (EDS) at Inverness Airport, liaising closely with a baggage integrator contractor to be appointed in due course who will install an associated Hold Baggage System. In order for Inverness Airport to be compliant with Chapter 12 of the Annex to Regulation (EU) No. 185/2010, point 12.4.2, HIAL require the replacement of the existing hold baggage screening Standard 2 EDS with a Standard 3 EDS by 31.3.2020. The supplier is also required to provide a Support Service Package for the EDS for an initial period of 5 years, with potential to extend for a further 4 years at HIAL's discretion.</td>\n",
              "    </tr>\n",
              "    <tr>\n",
              "      <th>2</th>\n",
              "      <td>ocds-0c46vo-0022-FEB345537_FEB345537</td>\n",
              "      <td>complete</td>\n",
              "      <td>Supply ECAC Std 3 Explosive Detection System to Inverness Airport</td>\n",
              "      <td>HIAL wish to appoint a single supplier to supply, deliver, install and commission an ECAC Standard 3 Explosive Detection System (EDS) at Inverness Airport, liaising closely with a Baggage Integrator contractor to be appointed in due course who will install an associated Hold Baggage System. In order for Inverness Airport to be compliant with Chapter 12 of the Annex to Regulation (EU) No 185/2010, point 12.4.2, HIAL require the replacement of the existing hold baggage screening Standard 2 EDS with a Standard 3 EDS by 31 March 2020. The supplier is also required to provide a Support Service Package for the EDS for an initial period of 5 years, with potential to extend for a further 4 years at HIAL's discretion CPV: 38546000, 38546000, 38581000, 34961100.</td>\n",
              "    </tr>\n",
              "    <tr>\n",
              "      <th>3</th>\n",
              "      <td>ocds-0c46vo-0133-091933-2019_091933-2019_td</td>\n",
              "      <td></td>\n",
              "      <td>Tender for the Transport of Elderly and Disabled Persons</td>\n",
              "      <td>The main purpose of this agreement is to enter into an agreement with 1 supplier who can supply transport services. We need transportation services for the elderly and disabled, to and from the day centre. The transport will take place in the morning and afternoon each weekday.</td>\n",
              "    </tr>\n",
              "  </tbody>\n",
              "</table>"
            ],
            "text/plain": [
              "<IPython.core.display.HTML object>"
            ]
          },
          "metadata": {
            "tags": []
          }
        }
      ]
    },
    {
      "cell_type": "markdown",
      "metadata": {
        "id": "PuL6LgJTdLSk",
        "colab_type": "text"
      },
      "source": [
        "Once we have the list of similar tenders. In a first step we will obtain the list of contracting processes related to each tender and its related awards and, finally, the list of awaredees for these awards.\n",
        "\n",
        "Notice that some of them are shown as \"unknown\". This mean that the name and id of the organisation are not included in our database."
      ]
    },
    {
      "cell_type": "code",
      "metadata": {
        "id": "kh_TREjwhyBd",
        "colab_type": "code",
        "cellView": "form",
        "colab": {
          "base_uri": "https://localhost:8080/",
          "height": 501
        },
        "outputId": "a8090d14-0e86-41c8-9379-a17cd2a51044"
      },
      "source": [
        "#@title Search Organizations\n",
        "\n",
        "def get_contracting_process(tender_id):\n",
        "  resp = requests.get('https://tbfy.librairy.linkeddata.es/kg-api/tender/'+tender_id+\"/contractingProcess\")\n",
        "  if resp.status_code != 200:\n",
        "    # This means something went wrong.\n",
        "    print('GET /tender/contracting_process {}'.format(resp.status_code))\n",
        "    pass\n",
        "  return resp.json() \n",
        "\n",
        "def get_award(contracting_process_id):\n",
        "  resp = requests.get('https://tbfy.librairy.linkeddata.es/kg-api/contractingProcess/'+contracting_process_id+\"/award\")\n",
        "  if resp.status_code != 200:\n",
        "    # This means something went wrong.\n",
        "    print('GET /contracting_process {}'.format(resp.status_code))\n",
        "    pass\n",
        "  return resp.json() \n",
        "\n",
        "def get_supplier(award_id):\n",
        "  resp = requests.get('https://tbfy.librairy.linkeddata.es/kg-api/award/'+award_id+\"/supplier\")\n",
        "  if resp.status_code != 200:\n",
        "    # This means something went wrong.\n",
        "    print('GET /contracting_process {}'.format(resp.status_code))\n",
        "    pass\n",
        "  return resp.json() \n",
        "\n",
        "\n",
        "def retrieve_organizations(request):\n",
        "  organizations = []\n",
        "  tenders = retrieve_tenders(request)\n",
        "  for tender in tenders:\n",
        "    contracts = get_contracting_process(tender['id'])\n",
        "    if (len(contracts) == 0):\n",
        "      organization={}\n",
        "      organization['tender'] = tender.get('title',\"\")\n",
        "      organizations.append(organization)\n",
        "    else:\n",
        "      for contracting_process in contracts:\n",
        "        awards = get_award(contracting_process['id'])\n",
        "        if (len(awards) == 0):\n",
        "          organization={}\n",
        "          organization['tender'] = tender.get('title',\"\")\n",
        "          organization['contract'] = contracting_process.get('releasePublishedDate',\"\")\n",
        "          organizations.append(organization)\n",
        "        else:\n",
        "          for award in awards:\n",
        "            suppliers = get_supplier(award['id'])\n",
        "            if (len(suppliers) == 0):\n",
        "              organization={}\n",
        "              organization['tender'] = tender.get('title',\"\")\n",
        "              organization['contract'] = contracting_process.get('releasePublishedDate',\"\")\n",
        "              organization['award'] = award.get('title',\"\")\n",
        "              organizations.append(organization)\n",
        "            else: \n",
        "              for supplier in suppliers:\n",
        "                  organization={}\n",
        "                  organization['tender'] = tender.get('title',\"\")\n",
        "                  organization['contract'] = contracting_process.get('releasePublishedDate',\"\")\n",
        "                  organization['award'] = award.get('title',\"\")\n",
        "                  try:\n",
        "                    organization['organization']=supplier.get('legalName',\"\")                    \n",
        "                  except:\n",
        "                    organization['organization']=supplier.get('id',\"\")              \n",
        "                  organizations.append(organization)\n",
        "      print(\"contracts and awards successfully reviewed for tender\",len(organizations))\n",
        "  return organizations\n",
        "\n",
        "\n",
        "\n",
        "text_input =  \"Lappalto ha per oggetto la fornitura di apparecchiature conformi alla normativa ECAC Standard 3 con velocita di movimento del nastro interno di almeno 05 msec.  per la rilevazione automatica di esplosivi EDS nei bagagli da stiva dei passeggeri in transito presso gli Aeroporti Milano Linate e Milano Malpensa.  Rientrano altresi nell'oggetto dell'appalto l'installazione e la manutenzione per un periodo di 10 dieci anni a decorrere dalla data di emissione del certificato di verifica di conformita delle apparecchiature fornite\"#@param {type:\"string\"}\n",
        "\n",
        "num_docs = 10 #@param {type:\"slider\", min:1, max:10, step:1}\n",
        "\n",
        "language = \"en\" #@param [\"en\", \"es\", \"fr\", \"it\", \"pt\"] {type:\"string\"}   \n",
        "\n",
        "request = {\"source\": \"tender\", \"complete\":True, \"size\": str(num_docs), \"text\" : text_input, \"lang\": language }\n",
        "\n",
        "labels = ['organization', 'award', 'contract','tender']\n",
        "df = pd.DataFrame(columns=labels)\n",
        "i=0\n",
        "for organization in retrieve_organizations(request):\n",
        "  row = []\n",
        "  for label in labels:\n",
        "    if (label in organization):\n",
        "      row.append(organization[label])\n",
        "    else:\n",
        "      row.append('unknown')\n",
        "  df.loc[i] = row\n",
        "  i+=1\n",
        "\n",
        "display(HTML(df.to_html(justify='center')))\n"
      ],
      "execution_count": 7,
      "outputs": [
        {
          "output_type": "stream",
          "text": [
            "making the query to the SearchAPI ... \n",
            "found 10 related tenders ..\n",
            "contracts and awards successfully reviewed for tender 1\n",
            "contracts and awards successfully reviewed for tender 2\n",
            "contracts and awards successfully reviewed for tender 3\n",
            "contracts and awards successfully reviewed for tender 4\n",
            "contracts and awards successfully reviewed for tender 5\n",
            "contracts and awards successfully reviewed for tender 6\n",
            "contracts and awards successfully reviewed for tender 7\n",
            "contracts and awards successfully reviewed for tender 8\n"
          ],
          "name": "stdout"
        },
        {
          "output_type": "display_data",
          "data": {
            "text/html": [
              "<table border=\"1\" class=\"dataframe\">\n",
              "  <thead>\n",
              "    <tr style=\"text-align: center;\">\n",
              "      <th></th>\n",
              "      <th>organization</th>\n",
              "      <th>award</th>\n",
              "      <th>contract</th>\n",
              "      <th>tender</th>\n",
              "    </tr>\n",
              "  </thead>\n",
              "  <tbody>\n",
              "    <tr>\n",
              "      <th>0</th>\n",
              "      <td>unknown</td>\n",
              "      <td>unknown</td>\n",
              "      <td></td>\n",
              "      <td>Supply ECAC Std 3 Explosive Detection System to Inverness Airport</td>\n",
              "    </tr>\n",
              "    <tr>\n",
              "      <th>1</th>\n",
              "      <td>unknown</td>\n",
              "      <td>unknown</td>\n",
              "      <td></td>\n",
              "      <td>Supply ECAC Std 3 Explosive Detection System to Inverness Airport</td>\n",
              "    </tr>\n",
              "    <tr>\n",
              "      <th>2</th>\n",
              "      <td>unknown</td>\n",
              "      <td>unknown</td>\n",
              "      <td></td>\n",
              "      <td>Supply ECAC Std 3 Explosive Detection System to Inverness Airport</td>\n",
              "    </tr>\n",
              "    <tr>\n",
              "      <th>3</th>\n",
              "      <td>unknown</td>\n",
              "      <td>unknown</td>\n",
              "      <td></td>\n",
              "      <td>Tender for the Transport of Elderly and Disabled Persons</td>\n",
              "    </tr>\n",
              "    <tr>\n",
              "      <th>4</th>\n",
              "      <td>unknown</td>\n",
              "      <td>unknown</td>\n",
              "      <td></td>\n",
              "      <td>SSA_BOT1_Secondary Travel Management Company Services for Botswana</td>\n",
              "    </tr>\n",
              "    <tr>\n",
              "      <th>5</th>\n",
              "      <td>unknown</td>\n",
              "      <td>unknown</td>\n",
              "      <td></td>\n",
              "      <td>Provision of Third Party Baggage Handling Services and/or Ramp Handling Services and/or Ramp Handling Services for In-flight Catering to Airport Users at Kerkira Airport \"Ioannis Kapodistrias\"</td>\n",
              "    </tr>\n",
              "    <tr>\n",
              "      <th>6</th>\n",
              "      <td>OSLOBUSS AS</td>\n",
              "      <td>Bus Replacement Service for the Airport Express Train</td>\n",
              "      <td></td>\n",
              "      <td>Bus Replacement Service for the Airport Express Train</td>\n",
              "    </tr>\n",
              "    <tr>\n",
              "      <th>7</th>\n",
              "      <td>unknown</td>\n",
              "      <td>unknown</td>\n",
              "      <td></td>\n",
              "      <td>Non-Directional Beacon Replacement Programme</td>\n",
              "    </tr>\n",
              "  </tbody>\n",
              "</table>"
            ],
            "text/plain": [
              "<IPython.core.display.HTML object>"
            ]
          },
          "metadata": {
            "tags": []
          }
        }
      ]
    }
  ]
}