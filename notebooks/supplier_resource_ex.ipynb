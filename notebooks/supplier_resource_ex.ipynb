{
  "nbformat": 4,
  "nbformat_minor": 0,
  "metadata": {
    "colab": {
      "name": "supplier_resource_ex.ipynb",
      "provenance": [],
      "authorship_tag": "ABX9TyMaAd2AWQm8w6I9WMUrQdSe",
      "include_colab_link": true
    },
    "kernelspec": {
      "name": "python3",
      "display_name": "Python 3"
    }
  },
  "cells": [
    {
      "cell_type": "markdown",
      "metadata": {
        "id": "view-in-github",
        "colab_type": "text"
      },
      "source": [
        "<a href=\"https://colab.research.google.com/github/TBFY/api-gateway/blob/master/notebooks/supplier_resource_ex.ipynb\" target=\"_parent\"><img src=\"https://colab.research.google.com/assets/colab-badge.svg\" alt=\"Open In Colab\"/></a>"
      ]
    },
    {
      "cell_type": "markdown",
      "metadata": {
        "id": "9LIEblxe17XC",
        "colab_type": "text"
      },
      "source": [
        "![TBFY-Banner](https://raw.githubusercontent.com/TBFY/general/master/figures/tbfy-banner.png)"
      ]
    },
    {
      "cell_type": "markdown",
      "metadata": {
        "id": "nMTURskn2AAT",
        "colab_type": "text"
      },
      "source": [
        "# **List of awardees**\n",
        "This notebook is an example of how to use a new resource created that shows a list of all the organisations that have been awarded. This resource is called \"/supplier\" and has been created in response to the needs of some business cases.\n",
        "\n",
        "The resource has several fully customizable filters. Depending on the number of filters used, the response time may be affected."
      ]
    },
    {
      "cell_type": "code",
      "metadata": {
        "id": "BW_Z-_w5JL7v",
        "colab_type": "code",
        "colab": {}
      },
      "source": [
        "import requests\n",
        "import pandas as pd\n",
        "from IPython.display import display, HTML"
      ],
      "execution_count": 0,
      "outputs": []
    },
    {
      "cell_type": "code",
      "metadata": {
        "id": "hS9JGjYD3g-e",
        "colab_type": "code",
        "colab": {},
        "cellView": "form"
      },
      "source": [
        "#@title Search Suppliers\n",
        "\n",
        "nm = \"\"\n",
        "jur = \"\"\n",
        "stat = \"\"\n",
        "tit = \"\"\n",
        "des = \"\"\n",
        "cur = \"\"\n",
        "emp = \"\"\n",
        "sdat = \"\"\n",
        "edat = \"\"\n",
        "\n",
        "name_org =  \"\"#@param {type:\"string\"}\n",
        "\n",
        "jurisdiction = \"es\" #@param [\"\", \"gb\", \"es\", \"fr\", \"it\", \"pt\", \"no\", \"si\"] {type:\"string\"}   \n",
        "\n",
        "min_employees =   0#@param {type:\"integer\"}\n",
        "\n",
        "award_status = \"\" #@param [\"\", \"pending\", \"active\", \"cancelled\", \"unsuccessful\"] {type:\"string\"}   \n",
        "\n",
        "award_title =  \"\" #@param {type:\"string\"}\n",
        "\n",
        "award_description =  \"\" #@param {type:\"string\"}\n",
        "\n",
        "currency = \"\" #@param {type:\"string\"}\n",
        "\n",
        "start_date = \"\" #@param {type:\"date\"}\n",
        "\n",
        "end_date = \"\" #@param {type:\"date\"}\n",
        "\n",
        "max_number = 5 #@param {type:\"slider\", min:1, max:100, step:1}\n",
        "\n",
        "if len(name_org) >0:\n",
        "  nm = '&name=' + name_org\n",
        "if len(jurisdiction)>0:\n",
        "  jur = '&jurisdiction=' + jurisdiction \n",
        "if len(award_status)>0:\n",
        "  stat = '&status=' + award_status \n",
        "if len(award_title)>0:\n",
        "  tit = '&title=' + award_title \n",
        "if len(award_description)>0:\n",
        "  des = '&description=' + award_description\n",
        "if len(currency)>0:\n",
        "  cur = '&currency=' + currency\n",
        "if len(start_date)>0:\n",
        "  sdat = '&start_dt=' + start_date + 'T00:00:00Z'\n",
        "if len(end_date)>0:\n",
        "  edat = '&end_dt=' + end_date + 'T00:00:00Z'\n",
        "if min_employees>0:\n",
        "  emp = '&minemployees=' + str(min_employees)\n",
        "\n",
        "params = 'http://tbfy.librairy.linkeddata.es/api/supplier?size=' + str(max_number) + nm + jur + stat + tit + des + cur + emp + sdat + edat\n",
        "print ('Requesting : ' + params )\n",
        "print()\n",
        "resp = requests.get(params)\n",
        "\n",
        "if resp.status_code != 200:\n",
        "    # This means something went wrong.\n",
        "    raise ApiError('GET /tasks/ {}'.format(resp.status_code))\n",
        "\n",
        "df = pd.DataFrame(columns=['legalName', 'organisation', 'employees', 'award_id', 'award_title', 'award_description', 'award_date'])\n",
        "i=0\n",
        "for todo_item in resp.json():\n",
        "  df.loc[i] = [todo_item['legalName'],todo_item['organisation'],todo_item['numberOfEmployees'],todo_item['award']['id'],todo_item['award']['title'],todo_item['award']['description'],todo_item['award']['date']]\n",
        "  i+=1\n",
        "\n",
        "display(HTML(df.to_html(justify='left')))"
      ],
      "execution_count": 0,
      "outputs": []
    },
    {
      "cell_type": "markdown",
      "metadata": {
        "id": "bknn4-sY8rDa",
        "colab_type": "text"
      },
      "source": [
        "#Reconciliation\n",
        "\n",
        "Once we have a list of awardees we can also match organisation names to legal corporate entities using the OpenRefine Reconciliation API"
      ]
    },
    {
      "cell_type": "code",
      "metadata": {
        "id": "iSQouNZzrWk6",
        "colab_type": "code",
        "colab": {},
        "cellView": "form"
      },
      "source": [
        "#@title Reconcile Suppliers\n",
        "\n",
        "name_org =  \"\"#@param {type:\"string\"}\n",
        "newname= name_org.replace(\" \", \"+\")\n",
        "jurisdiction = \"es\" #@param [\"gb\", \"es\", \"fr\", \"it\", \"pt\", \"no\"] {type:\"string\"}  \n",
        "\n",
        "params = 'https://opencorporates.com/reconcile/' + jurisdiction + '?query=' + newname\n",
        "resp = requests.get(params)\n",
        "\n",
        "print ('Requesting : ' + params )\n",
        "print ()\n",
        "json_val = resp.json()['result']\n",
        "\n",
        "if resp.status_code != 200:\n",
        "    # This means something went wrong.\n",
        "    raise ApiError('GET /tasks/ {}'.format(resp.status_code))\n",
        "\n",
        "df = pd.DataFrame(columns=['id', 'name', 'score', 'match', 'uri'])\n",
        "i=0\n",
        "for todo_item in json_val:\n",
        "  new_id = todo_item['id'].replace(\"/companies/\",\"\")\n",
        "  new_id = new_id.replace(\"/\",\"-\")\n",
        "  df.loc[i] = [new_id, todo_item['name'], todo_item['score'], todo_item['match'], todo_item['uri']]\n",
        "  i+=1\n",
        "\n",
        "display(HTML(df.to_html(justify='left')))\n"
      ],
      "execution_count": 0,
      "outputs": []
    }
  ]
}